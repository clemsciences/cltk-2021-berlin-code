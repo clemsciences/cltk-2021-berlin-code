{
 "cells": [
  {
   "cell_type": "markdown",
   "id": "073f9622",
   "metadata": {},
   "source": [
    "# Dating texts about the discovery of America by Vikings"
   ]
  },
  {
   "cell_type": "code",
   "execution_count": null,
   "id": "44cb35dd",
   "metadata": {},
   "outputs": [],
   "source": []
  },
  {
   "cell_type": "markdown",
   "id": "36c9f062",
   "metadata": {},
   "source": [
    "### Context "
   ]
  },
  {
   "cell_type": "markdown",
   "id": "6911b6ac",
   "metadata": {},
   "source": [
    "\n",
    "The discovery of America by Norse people is now a fact. Archeological evidences show the presence of Vikings at *L’Anse aux Meadows* in the current Canada. (https://www.erudit.org/en/journals/nflds/2003-v19-n1-nflds_19_1/nflds19_1art02/)\n",
    "\n",
    "[A Nature article: Evidence for European presence in the Americas in ad 1021](https://rdcu.be/cCdv8) (https://doi.org/10.1038/s41586-021-03972-8 or https://www.nature.com/articles/s41586-021-03972-8)\n",
    "\n"
   ]
  },
  {
   "cell_type": "code",
   "execution_count": 1,
   "id": "b3235b90",
   "metadata": {},
   "outputs": [],
   "source": [
    "import cltk"
   ]
  },
  {
   "cell_type": "code",
   "execution_count": 2,
   "id": "cfad9a67",
   "metadata": {},
   "outputs": [
    {
     "name": "stdout",
     "output_type": "stream",
     "text": [
      "cltk 1.0.21\n"
     ]
    }
   ],
   "source": [
    "print(cltk.__version__)"
   ]
  },
  {
   "cell_type": "markdown",
   "id": "e8f604a3",
   "metadata": {},
   "source": [
    "## Text retrieval"
   ]
  },
  {
   "cell_type": "markdown",
   "id": "86657ff5",
   "metadata": {},
   "source": [
    "First, we need to retrieve the texts we want to analyse."
   ]
  },
  {
   "cell_type": "code",
   "execution_count": 3,
   "id": "de324dad",
   "metadata": {},
   "outputs": [],
   "source": [
    "import codecs\n",
    "\n",
    "def load_file(filename):\n",
    "    with codecs.open(filename, encoding=\"utf-8\") as f:\n",
    "        return f.read()\n",
    "\n",
    "ESR = load_file(\"eiriks_saga_rauda.txt\")\n",
    "\n",
    "    \n",
    "GS = load_file(\"grænlendiga_saga.txt\")"
   ]
  },
  {
   "cell_type": "code",
   "execution_count": 4,
   "id": "2d619ae9",
   "metadata": {},
   "outputs": [
    {
     "name": "stdout",
     "output_type": "stream",
     "text": [
      "1. Frá Auði djúpúðgu ok Vífli.\n",
      "\n",
      "Óláfr hét herkonungr, er kallaðr var Óláfr hvíti. Hann var sonr Ingjalds konungs Helgasonar, Óláfssonar, Guðröðarsonar, Hálfdanarsonar hvítbeins Upplendingakonungs.\n",
      "Óláfr herjaði í vestrvíking ok vann Dyflinni á Írlandi ok Dyflinnarskíri. Þar gerðist hann konungr yfir. Hann fekk Auðar djúpúðgu, dóttur Ketils flatnefs, Bjarnarsonar bunu, ágæts manns ór Nóregi. Þorsteinn rauðr hét sonr þeira.\n",
      "Óláfr fell á Írlandi í orrostu, en Auðr ok Þorsteinn fóru þá í Suðreyjar. \n",
      "\n",
      "===================\n",
      "\n",
      "1. Fundit ok byggt Grænland.\r\n",
      "\r\n",
      "Þorvaldr hét maðr, sonr Ásvalds Úlfssonar, Öxna-Þórissonar. Þorvaldr ok Eiríkr inn rauði, sonr hans, fóru af Jaðri til Íslands fyrir víga sakir. Þá var víða byggt Ísland. Þeir bjuggu fyrst at Dröngum á Hornströndum. Þar andaðist Þorvaldr.\r\n",
      "Eiríkr fekk þá Þjóðhildar, dóttur Jörundar Úlfssonar ok Þorbjargar knarrarbringu, er þá átti Þorbjörn inn haukdælski. Réðst Eiríkr þá norðan ok bjó á Eiríksstöðum hjá Vatnshorni. Sonr Eiríks ok Þjóðhildar hét Leifr.\r\n",
      "Enn eftir v\n"
     ]
    }
   ],
   "source": [
    "print(f\"{ESR[:500]}\\n\\n===================\\n\\n{GS[:500]}\")"
   ]
  },
  {
   "cell_type": "code",
   "execution_count": null,
   "id": "d837a0b5",
   "metadata": {},
   "outputs": [],
   "source": []
  },
  {
   "cell_type": "markdown",
   "id": "dcfa2ed2",
   "metadata": {},
   "source": [
    "One way to estimate the date of writing of a text is by using linguistic features.\n",
    "\n",
    "[https://timarit.is/page/7340957](https://timarit.is/page/7340957)"
   ]
  },
  {
   "cell_type": "markdown",
   "id": "74029fb6",
   "metadata": {},
   "source": [
    "> The of/um particle can be used as a dating criterium only when the material for analysis is extensive."
   ]
  },
  {
   "cell_type": "code",
   "execution_count": 5,
   "id": "8ce0d347",
   "metadata": {},
   "outputs": [],
   "source": [
    "from cltk import NLP"
   ]
  },
  {
   "cell_type": "code",
   "execution_count": 19,
   "id": "0acea45d",
   "metadata": {},
   "outputs": [],
   "source": [
    "# help(NLP)"
   ]
  },
  {
   "cell_type": "code",
   "execution_count": 7,
   "id": "4bbf5b78",
   "metadata": {},
   "outputs": [],
   "source": [
    "from cltk.tokenizers.processes import OldNorseTokenizationProcess\n",
    "from cltk.stops.processes import StopsProcess\n"
   ]
  },
  {
   "cell_type": "code",
   "execution_count": 8,
   "id": "bd1d3f50",
   "metadata": {},
   "outputs": [],
   "source": [
    "#help(StopsProcess)"
   ]
  },
  {
   "cell_type": "code",
   "execution_count": 9,
   "id": "12118e3e",
   "metadata": {},
   "outputs": [],
   "source": [
    "from cltk.core.data_types import Pipeline"
   ]
  },
  {
   "cell_type": "code",
   "execution_count": 10,
   "id": "b089af99",
   "metadata": {},
   "outputs": [],
   "source": [
    "non_pipeline_1 = Pipeline(language=\"non\", description=\"\", processes=[OldNorseTokenizationProcess, StopsProcess])"
   ]
  },
  {
   "cell_type": "code",
   "execution_count": 11,
   "id": "f1019952",
   "metadata": {},
   "outputs": [
    {
     "name": "stdout",
     "output_type": "stream",
     "text": [
      "‎𐤀 CLTK version '1.0.21'.\n",
      "Pipeline for language 'Old Norse' (ISO: 'non'): `OldNorseTokenizationProcess`, `StopsProcess`.\n"
     ]
    }
   ],
   "source": [
    "non_nlp_1 = NLP(\"non\", custom_pipeline=non_pipeline_1)"
   ]
  },
  {
   "cell_type": "code",
   "execution_count": 12,
   "id": "f0b98f35",
   "metadata": {},
   "outputs": [],
   "source": [
    "ESR_analysed_1 = non_nlp_1.analyze(ESR)"
   ]
  },
  {
   "cell_type": "code",
   "execution_count": 13,
   "id": "e5a0e4d4",
   "metadata": {},
   "outputs": [
    {
     "data": {
      "text/plain": [
       "'1 . Frá Auði djúpúðgu ok Vífli . Óláfr hét herkonungr , er kallaðr var Óláfr hvíti . Hann var sonr I'"
      ]
     },
     "execution_count": 13,
     "metadata": {},
     "output_type": "execute_result"
    }
   ],
   "source": [
    "ESR_analysed_1.sentences_strings[0][:100] # it does not work yet"
   ]
  },
  {
   "cell_type": "code",
   "execution_count": 14,
   "id": "b5763646",
   "metadata": {},
   "outputs": [
    {
     "data": {
      "text/plain": [
       "1"
      ]
     },
     "execution_count": 14,
     "metadata": {},
     "output_type": "execute_result"
    }
   ],
   "source": [
    "len(ESR_analysed.sentences)"
   ]
  },
  {
   "cell_type": "code",
   "execution_count": 21,
   "id": "e1dc5424",
   "metadata": {},
   "outputs": [],
   "source": [
    "from cltk.sentence.sentence import RegexSentenceTokenizer\n",
    "\n",
    "sent_end_chars = [\".\", \"!\", \"?\"]\n",
    "\n",
    "\n",
    "class OldNorseRegexSentenceTokenizer(RegexSentenceTokenizer):\n",
    "    \"\"\"``RegexSentenceTokenizer`` for Old Norse.\"\"\"\n",
    "\n",
    "    def __init__(self: object):\n",
    "        super().__init__(language=\"non\", sent_end_chars=sent_end_chars)\n",
    "        \n",
    "        \n",
    "@dataclass\n",
    "class OldNorseSentenceTokenizationProcess(TokenizationProcess):\n",
    "    \"\"\"The default OldNorse tokenization algorithm.\n",
    "\n",
    "    >>> from cltk.tokenizers import OldNorseTokenizationProcess\n",
    "    >>> from cltk.languages.example_texts import get_example_text\n",
    "    >>> tok = OldNorseTokenizationProcess()\n",
    "    >>> output_doc = tok.run(input_doc=Doc(raw=get_example_text(\"non\")[:29]))\n",
    "    >>> output_doc.tokens\n",
    "    ['Gylfi', 'konungr', 'réð', 'þar', 'löndum']\n",
    "    \"\"\"\n",
    "\n",
    "    description = \"Default Old Norse tokenizer\"\n",
    "\n",
    "    @cachedproperty\n",
    "    def algorithm(self):\n",
    "        return OldNorseWordTokenizer()"
   ]
  },
  {
   "cell_type": "code",
   "execution_count": 23,
   "id": "1e83075f",
   "metadata": {},
   "outputs": [],
   "source": [
    "non_pipeline_2 = Pipeline(language=\"non\", description=\"\", \n",
    "                          processes=[OldNorseTokenizationProcess, OldNorseRegexSentenceTokenizer, StopsProcess])"
   ]
  },
  {
   "cell_type": "code",
   "execution_count": 24,
   "id": "40790ec1",
   "metadata": {},
   "outputs": [
    {
     "name": "stdout",
     "output_type": "stream",
     "text": [
      "‎𐤀 CLTK version '1.0.21'.\n",
      "Pipeline for language 'Old Norse' (ISO: 'non'): `OldNorseTokenizationProcess`, `OldNorseRegexSentenceTokenizer`, `StopsProcess`.\n"
     ]
    }
   ],
   "source": [
    "non_nlp_2 = NLP(\"non\", custom_pipeline=non_pipeline_2)"
   ]
  },
  {
   "cell_type": "code",
   "execution_count": 25,
   "id": "edb56ba4",
   "metadata": {},
   "outputs": [
    {
     "ename": "TypeError",
     "evalue": "__init__() takes 1 positional argument but 2 were given",
     "output_type": "error",
     "traceback": [
      "\u001b[0;31m---------------------------------------------------------------------------\u001b[0m",
      "\u001b[0;31mTypeError\u001b[0m                                 Traceback (most recent call last)",
      "\u001b[0;32m/tmp/ipykernel_32480/3767840181.py\u001b[0m in \u001b[0;36m<module>\u001b[0;34m\u001b[0m\n\u001b[0;32m----> 1\u001b[0;31m \u001b[0mESR_analysed_2\u001b[0m \u001b[0;34m=\u001b[0m \u001b[0mnon_nlp_2\u001b[0m\u001b[0;34m.\u001b[0m\u001b[0manalyze\u001b[0m\u001b[0;34m(\u001b[0m\u001b[0mESR\u001b[0m\u001b[0;34m)\u001b[0m\u001b[0;34m\u001b[0m\u001b[0;34m\u001b[0m\u001b[0m\n\u001b[0m",
      "\u001b[0;32m~/berlin2021/jup/venv_ber/lib/python3.7/site-packages/cltk/nlp.py\u001b[0m in \u001b[0;36manalyze\u001b[0;34m(self, text)\u001b[0m\n\u001b[1;32m    139\u001b[0m         \u001b[0mdoc\u001b[0m \u001b[0;34m=\u001b[0m \u001b[0mDoc\u001b[0m\u001b[0;34m(\u001b[0m\u001b[0mlanguage\u001b[0m\u001b[0;34m=\u001b[0m\u001b[0mself\u001b[0m\u001b[0;34m.\u001b[0m\u001b[0mlanguage\u001b[0m\u001b[0;34m.\u001b[0m\u001b[0miso_639_3_code\u001b[0m\u001b[0;34m,\u001b[0m \u001b[0mraw\u001b[0m\u001b[0;34m=\u001b[0m\u001b[0mtext\u001b[0m\u001b[0;34m)\u001b[0m\u001b[0;34m\u001b[0m\u001b[0;34m\u001b[0m\u001b[0m\n\u001b[1;32m    140\u001b[0m         \u001b[0;32mfor\u001b[0m \u001b[0mprocess\u001b[0m \u001b[0;32min\u001b[0m \u001b[0mself\u001b[0m\u001b[0;34m.\u001b[0m\u001b[0mpipeline\u001b[0m\u001b[0;34m.\u001b[0m\u001b[0mprocesses\u001b[0m\u001b[0;34m:\u001b[0m\u001b[0;34m\u001b[0m\u001b[0;34m\u001b[0m\u001b[0m\n\u001b[0;32m--> 141\u001b[0;31m             \u001b[0ma_process\u001b[0m \u001b[0;34m=\u001b[0m \u001b[0mself\u001b[0m\u001b[0;34m.\u001b[0m\u001b[0m_get_process_object\u001b[0m\u001b[0;34m(\u001b[0m\u001b[0mprocess\u001b[0m\u001b[0;34m)\u001b[0m\u001b[0;34m\u001b[0m\u001b[0;34m\u001b[0m\u001b[0m\n\u001b[0m\u001b[1;32m    142\u001b[0m             \u001b[0mdoc\u001b[0m \u001b[0;34m=\u001b[0m \u001b[0ma_process\u001b[0m\u001b[0;34m.\u001b[0m\u001b[0mrun\u001b[0m\u001b[0;34m(\u001b[0m\u001b[0mdoc\u001b[0m\u001b[0;34m)\u001b[0m\u001b[0;34m\u001b[0m\u001b[0;34m\u001b[0m\u001b[0m\n\u001b[1;32m    143\u001b[0m         \u001b[0;32mreturn\u001b[0m \u001b[0mdoc\u001b[0m\u001b[0;34m\u001b[0m\u001b[0;34m\u001b[0m\u001b[0m\n",
      "\u001b[0;32m~/berlin2021/jup/venv_ber/lib/python3.7/site-packages/cltk/nlp.py\u001b[0m in \u001b[0;36m_get_process_object\u001b[0;34m(self, process_object)\u001b[0m\n\u001b[1;32m    114\u001b[0m                 \u001b[0;32mreturn\u001b[0m \u001b[0ma_process\u001b[0m\u001b[0;34m\u001b[0m\u001b[0;34m\u001b[0m\u001b[0m\n\u001b[1;32m    115\u001b[0m             \u001b[0;32melse\u001b[0m\u001b[0;34m:\u001b[0m\u001b[0;34m\u001b[0m\u001b[0;34m\u001b[0m\u001b[0m\n\u001b[0;32m--> 116\u001b[0;31m                 \u001b[0ma_process\u001b[0m \u001b[0;34m=\u001b[0m \u001b[0mprocess_object\u001b[0m\u001b[0;34m(\u001b[0m\u001b[0mself\u001b[0m\u001b[0;34m.\u001b[0m\u001b[0mlanguage\u001b[0m\u001b[0;34m.\u001b[0m\u001b[0miso_639_3_code\u001b[0m\u001b[0;34m)\u001b[0m\u001b[0;34m\u001b[0m\u001b[0;34m\u001b[0m\u001b[0m\n\u001b[0m\u001b[1;32m    117\u001b[0m                 \u001b[0mNLP\u001b[0m\u001b[0;34m.\u001b[0m\u001b[0mprocess_objects\u001b[0m\u001b[0;34m[\u001b[0m\u001b[0mprocess_object\u001b[0m\u001b[0;34m]\u001b[0m \u001b[0;34m=\u001b[0m \u001b[0ma_process\u001b[0m\u001b[0;34m\u001b[0m\u001b[0;34m\u001b[0m\u001b[0m\n\u001b[1;32m    118\u001b[0m                 \u001b[0;32mreturn\u001b[0m \u001b[0ma_process\u001b[0m\u001b[0;34m\u001b[0m\u001b[0;34m\u001b[0m\u001b[0m\n",
      "\u001b[0;31mTypeError\u001b[0m: __init__() takes 1 positional argument but 2 were given"
     ]
    }
   ],
   "source": [
    "ESR_analysed_2 = non_nlp_2.analyze(ESR)"
   ]
  },
  {
   "cell_type": "code",
   "execution_count": null,
   "id": "26aaeaf3",
   "metadata": {},
   "outputs": [],
   "source": [
    "len(ESR_analysed.sentences)"
   ]
  },
  {
   "cell_type": "code",
   "execution_count": 15,
   "id": "3a77d212",
   "metadata": {},
   "outputs": [],
   "source": [
    "from cltk.tag.pos import POSTag"
   ]
  },
  {
   "cell_type": "code",
   "execution_count": 20,
   "id": "1a5c8852",
   "metadata": {},
   "outputs": [],
   "source": [
    "# POSTag(language=\"non\")"
   ]
  },
  {
   "cell_type": "code",
   "execution_count": null,
   "id": "64376f5b",
   "metadata": {},
   "outputs": [],
   "source": []
  },
  {
   "cell_type": "code",
   "execution_count": null,
   "id": "472f8ffb",
   "metadata": {},
   "outputs": [],
   "source": []
  },
  {
   "cell_type": "code",
   "execution_count": 18,
   "id": "b77a4c99",
   "metadata": {},
   "outputs": [
    {
     "data": {
      "text/plain": [
       "<cltk.tag.pos.POSTag at 0x7f10ddf95198>"
      ]
     },
     "execution_count": 18,
     "metadata": {},
     "output_type": "execute_result"
    }
   ],
   "source": [
    "POSTag(language=\"lat\")"
   ]
  },
  {
   "cell_type": "code",
   "execution_count": null,
   "id": "c1390281",
   "metadata": {},
   "outputs": [],
   "source": []
  },
  {
   "cell_type": "code",
   "execution_count": null,
   "id": "a6e35a07",
   "metadata": {},
   "outputs": [],
   "source": []
  },
  {
   "cell_type": "code",
   "execution_count": null,
   "id": "8d33bf14",
   "metadata": {},
   "outputs": [],
   "source": []
  }
 ],
 "metadata": {
  "kernelspec": {
   "display_name": "Python 3 (ipykernel)",
   "language": "python",
   "name": "python3"
  },
  "language_info": {
   "codemirror_mode": {
    "name": "ipython",
    "version": 3
   },
   "file_extension": ".py",
   "mimetype": "text/x-python",
   "name": "python",
   "nbconvert_exporter": "python",
   "pygments_lexer": "ipython3",
   "version": "3.7.3"
  }
 },
 "nbformat": 4,
 "nbformat_minor": 5
}
