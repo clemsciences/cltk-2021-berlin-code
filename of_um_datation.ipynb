{
 "cells": [
  {
   "cell_type": "markdown",
   "id": "073f9622",
   "metadata": {},
   "source": [
    "# About the discovery of America by Vikings with CLTK"
   ]
  },
  {
   "cell_type": "markdown",
   "id": "f3e2b96d",
   "metadata": {},
   "source": [
    "## Introduction\n",
    "The aims of the presentation are to show:\n",
    "- to show how to practically use CLTK,\n",
    "- to understand how CLTK works,\n",
    "- to explore classical texts with CLTK on an exploratory perspective.\n",
    "\n",
    "We analyse here two texts *The saga of Erik the Red* (Eiríks saga rauða, or **ESR**) and *The saga of the Greenlanders* (Grœnlendinga saga or **GS**) in the original language, namely Old Norse. The sagas tells how Norwegians/Icelanders colonized Greenland and found new lands in what is now America.\n",
    "\n",
    "\n",
    "### Context\n",
    "\n",
    "#### Archeology\n",
    "The discovery of America by Norse people is now a fact. Archeological evidences show the presence of Vikings at *L’Anse aux Meadows* in the current Canada. ([The Norse in Newfoundland](https://www.erudit.org/en/journals/nflds/2003-v19-n1-nflds_19_1/nflds19_1art02/) and [A Nature article: Evidence for European presence in the Americas in ad 1021](https://doi.org/10.1038/s41586-021-03972-8).\n",
    "\n",
    "#### Interpretations\n",
    "Scholars interpret **ESR** as a more logical story reinterpreted by the author whereas **GS** is supposedly more raw transcription of an oral tradition. There is a debate on which one came first.\n",
    "\n",
    "\n"
   ]
  },
  {
   "cell_type": "markdown",
   "id": "083cb21d",
   "metadata": {},
   "source": [
    "## Installing CLTK "
   ]
  },
  {
   "cell_type": "markdown",
   "id": "cfe44782",
   "metadata": {},
   "source": [
    "It works on Posix system: **Linux**, **MacOs**, **Windows** with **WSL** (Windows subsystem for Linux)."
   ]
  },
  {
   "cell_type": "markdown",
   "id": "9ecb5904",
   "metadata": {},
   "source": [
    "It is a good practice to code in a Python virtual environment. Create a virtual environment to work on a project.\n",
    "\n",
    "```bash\n",
    "$ python3 -m venv cltk_venv\n",
    "$ source cltk_venv/bin/activate\n",
    "(cltk_venv) $ pip install cltk \n",
    "```\n"
   ]
  },
  {
   "cell_type": "code",
   "execution_count": 1,
   "id": "b3235b90",
   "metadata": {},
   "outputs": [],
   "source": [
    "import cltk"
   ]
  },
  {
   "cell_type": "code",
   "execution_count": 2,
   "id": "cfad9a67",
   "metadata": {},
   "outputs": [
    {
     "name": "stdout",
     "output_type": "stream",
     "text": [
      "cltk 1.0.21\n"
     ]
    }
   ],
   "source": [
    "print(cltk.__version__)"
   ]
  },
  {
   "cell_type": "markdown",
   "id": "86657ff5",
   "metadata": {},
   "source": [
    "## Text retrieval\n",
    "First, we need to retrieve the texts we want to analyse.\n",
    "\n",
    "The texts come from [heimskringla.no](http://heimskringla.no/wiki/Forside)."
   ]
  },
  {
   "cell_type": "code",
   "execution_count": 3,
   "id": "de324dad",
   "metadata": {},
   "outputs": [],
   "source": [
    "import codecs\n",
    "\n",
    "def load_file(filename):\n",
    "    with codecs.open(filename, encoding=\"utf-8\") as f:\n",
    "        \n",
    "        return f.read()\n",
    "    \n",
    "def load_clean_text(filename):\n",
    "    text = load_file(filename)\n",
    "    text = text.replace('\"', \"\")\n",
    "    text = text.replace(\"-\", \" \")\n",
    "    text = text.lower()\n",
    "    return text\n",
    "\n",
    "ESR = load_clean_text(\"eiriks_saga_rauda.txt\")    \n",
    "GS = load_clean_text(\"grænlendiga_saga.txt\")"
   ]
  },
  {
   "cell_type": "code",
   "execution_count": 4,
   "id": "2d619ae9",
   "metadata": {},
   "outputs": [
    {
     "name": "stdout",
     "output_type": "stream",
     "text": [
      "1. frá auði djúpúðgu ok vífli.\r\n",
      "\r\n",
      "óláfr hét herkonungr, er kallaðr var óláfr hvíti. hann var sonr ingjalds konungs helgasonar, óláfssonar, guðröðarsonar, hálfdanarsonar hvítbeins upplendingakonungs.\r\n",
      "óláfr herjaði í vestrvíking ok vann dyflinni á írlandi ok dyflinnarskíri. þar gerðist hann konungr yfir. hann fekk auðar djúpúðgu, dóttur ketils flatnefs, bjarnarsonar bunu, ágæts manns ór nóregi. þorsteinn rauðr hét sonr þeira.\r\n",
      "óláfr fell á írlandi í orrostu, en auðr ok þorsteinn fóru þá í suðreyj\n",
      "\n",
      "===================\n",
      "\n",
      "1. fundit ok byggt grænland.\r\n",
      "\r\n",
      "þorvaldr hét maðr, sonr ásvalds úlfssonar, öxna þórissonar. þorvaldr ok eiríkr inn rauði, sonr hans, fóru af jaðri til íslands fyrir víga sakir. þá var víða byggt ísland. þeir bjuggu fyrst at dröngum á hornströndum. þar andaðist þorvaldr.\r\n",
      "eiríkr fekk þá þjóðhildar, dóttur jörundar úlfssonar ok þorbjargar knarrarbringu, er þá átti þorbjörn inn haukdælski. réðst eiríkr þá norðan ok bjó á eiríksstöðum hjá vatnshorni. sonr eiríks ok þjóðhildar hét leifr.\r\n",
      "enn eftir v\n"
     ]
    }
   ],
   "source": [
    "print(f\"{ESR[:500]}\\n\\n===================\\n\\n{GS[:500]}\")"
   ]
  },
  {
   "cell_type": "markdown",
   "id": "74029fb6",
   "metadata": {},
   "source": [
    "## CLTK pipeline"
   ]
  },
  {
   "cell_type": "markdown",
   "id": "4494987e",
   "metadata": {},
   "source": [
    "![CLTK pipeline](cltk-Page-2.jpg)"
   ]
  },
  {
   "cell_type": "markdown",
   "id": "3af770b7",
   "metadata": {},
   "source": [
    "If everything is available in CLTK, you only need to import `NLP`."
   ]
  },
  {
   "cell_type": "code",
   "execution_count": 5,
   "id": "8ce0d347",
   "metadata": {},
   "outputs": [],
   "source": [
    "from cltk import NLP"
   ]
  },
  {
   "cell_type": "markdown",
   "id": "ef20fdf1",
   "metadata": {},
   "source": [
    "Default pipeline for Old Norse language."
   ]
  },
  {
   "cell_type": "code",
   "execution_count": 6,
   "id": "0e119d9c",
   "metadata": {},
   "outputs": [
    {
     "name": "stdout",
     "output_type": "stream",
     "text": [
      "‎𐤀 CLTK version '1.0.21'.\n",
      "Pipeline for language 'Old Norse' (ISO: 'non'): `OldNorseTokenizationProcess`, `StopsProcess`, `OldNorseLexiconProcess`.\n"
     ]
    }
   ],
   "source": [
    "non_nlp_default = NLP(\"non\")"
   ]
  },
  {
   "cell_type": "code",
   "execution_count": 7,
   "id": "e06079cc",
   "metadata": {},
   "outputs": [],
   "source": [
    "non_nlp_default = NLP(\"non\", suppress_banner=True)"
   ]
  },
  {
   "cell_type": "markdown",
   "id": "7c9ca464",
   "metadata": {},
   "source": [
    "Which processes are there? The answer is in the banner or in an attribute."
   ]
  },
  {
   "cell_type": "code",
   "execution_count": 8,
   "id": "194a436f",
   "metadata": {},
   "outputs": [
    {
     "data": {
      "text/plain": [
       "[cltk.tokenizers.processes.OldNorseTokenizationProcess,\n",
       " cltk.stops.processes.StopsProcess,\n",
       " cltk.lexicon.processes.OldNorseLexiconProcess]"
      ]
     },
     "execution_count": 8,
     "metadata": {},
     "output_type": "execute_result"
    }
   ],
   "source": [
    "non_nlp_default.pipeline.processes"
   ]
  },
  {
   "cell_type": "markdown",
   "id": "80368360",
   "metadata": {},
   "source": [
    "A tokenization process for Old Norse, a stop process (a way to filter uninformative words) and a lexicon process. For our task, we do not need the lexicon process."
   ]
  },
  {
   "cell_type": "markdown",
   "id": "2d9071ba",
   "metadata": {},
   "source": [
    "### Custom pipeline for Old Norse"
   ]
  },
  {
   "cell_type": "markdown",
   "id": "69760a49",
   "metadata": {},
   "source": [
    "To customize our pipeline, we have to import processed."
   ]
  },
  {
   "cell_type": "code",
   "execution_count": 9,
   "id": "4bbf5b78",
   "metadata": {},
   "outputs": [],
   "source": [
    "from cltk.tokenizers.processes import OldNorseTokenizationProcess\n",
    "from cltk.stops.processes import StopsProcess\n",
    "from cltk.text.processes import OldNorsePunctuationRemovalProcess\n"
   ]
  },
  {
   "cell_type": "code",
   "execution_count": 10,
   "id": "12118e3e",
   "metadata": {},
   "outputs": [],
   "source": [
    "from cltk.core.data_types import Pipeline"
   ]
  },
  {
   "cell_type": "code",
   "execution_count": 11,
   "id": "b089af99",
   "metadata": {},
   "outputs": [],
   "source": [
    "non_pipeline_custom_1 = Pipeline(language=\"non\", description=\"\", processes=[OldNorseTokenizationProcess, StopsProcess])"
   ]
  },
  {
   "cell_type": "code",
   "execution_count": 12,
   "id": "f1019952",
   "metadata": {},
   "outputs": [
    {
     "name": "stdout",
     "output_type": "stream",
     "text": [
      "‎𐤀 CLTK version '1.0.21'.\n",
      "Pipeline for language 'Old Norse' (ISO: 'non'): `OldNorseTokenizationProcess`, `StopsProcess`.\n"
     ]
    }
   ],
   "source": [
    "non_nlp_custom_1 = NLP(\"non\", custom_pipeline=non_pipeline_custom_1)"
   ]
  },
  {
   "cell_type": "code",
   "execution_count": 13,
   "id": "f0b98f35",
   "metadata": {},
   "outputs": [],
   "source": [
    "ESR_analysed_1 = non_nlp_custom_1.analyze(ESR)"
   ]
  },
  {
   "cell_type": "code",
   "execution_count": 14,
   "id": "e5a0e4d4",
   "metadata": {},
   "outputs": [
    {
     "data": {
      "text/plain": [
       "'1 . frá auði djúpúðgu ok vífli . óláfr hét herkonungr , er kallaðr var óláfr hvíti . hann var sonr i'"
      ]
     },
     "execution_count": 14,
     "metadata": {},
     "output_type": "execute_result"
    }
   ],
   "source": [
    "ESR_analysed_1.sentences_strings[0][:100] # it does not work yet"
   ]
  },
  {
   "cell_type": "code",
   "execution_count": 15,
   "id": "b5763646",
   "metadata": {},
   "outputs": [
    {
     "data": {
      "text/plain": [
       "1"
      ]
     },
     "execution_count": 15,
     "metadata": {},
     "output_type": "execute_result"
    }
   ],
   "source": [
    "len(ESR_analysed_1.sentences)"
   ]
  },
  {
   "cell_type": "markdown",
   "id": "74689a44",
   "metadata": {},
   "source": [
    "Hmmm, 1 sentence means that sentences were not recognized.\n",
    "\n",
    "When available processed are not enough, you can create one by yourself."
   ]
  },
  {
   "cell_type": "markdown",
   "id": "e6fb1a0c",
   "metadata": {},
   "source": [
    "###  Creating a `Process` for CLTK"
   ]
  },
  {
   "cell_type": "markdown",
   "id": "1a17d260",
   "metadata": {},
   "source": [
    "A process is a class that inherits from `Process` and that implements the `run` method."
   ]
  },
  {
   "cell_type": "code",
   "execution_count": 16,
   "id": "b72b19d3",
   "metadata": {},
   "outputs": [],
   "source": [
    "from copy import deepcopy\n",
    "from dataclasses import dataclass\n",
    "\n",
    "from cltk.core import CLTKException\n",
    "from cltk.core.data_types import Doc, Process\n",
    "from cltk.sentence.sentence import RegexSentenceTokenizer\n",
    "\n",
    "non_sent_end_chars = [\".\", \"!\", \"?\"]\n",
    "\n",
    "\n",
    "@dataclass\n",
    "class OldNorseSentenceTokenizationProcess(Process):\n",
    "\n",
    "    model: object = None\n",
    "\n",
    "    def run(self, input_doc: Doc) -> Doc:\n",
    "        output_doc = deepcopy(input_doc)\n",
    "        sentence_tokenizer = RegexSentenceTokenizer(language=\"non\", sent_end_chars=non_sent_end_chars)\n",
    "\n",
    "        sentences = sentence_tokenizer.tokenize(output_doc.raw, self.model)\n",
    "        sentence_indices = []\n",
    "        for i, sentence in enumerate(sentences):\n",
    "            if i >= 1:\n",
    "                sentence_indices.append(sentence_indices[-1] + len(sentences[i]))\n",
    "            else:\n",
    "                sentence_indices.append(len(sentence))\n",
    "        sentence_index = 0\n",
    "        for j, word in enumerate(output_doc.words):\n",
    "            if sentence_indices[sentence_index] < word.index_char_stop and\\\n",
    "                    sentence_index + 1 < len(sentence_indices):\n",
    "                sentence_index += 1\n",
    "            word.index_sentence = sentence_index\n",
    "        return output_doc"
   ]
  },
  {
   "cell_type": "markdown",
   "id": "4e25973d",
   "metadata": {},
   "source": [
    "In order to be more language-agnostic, we should add the `algorithm` method, then seperate the `run` method, that can stay in the mother class, from the `algorithm` method that is specific to each language and that is in a daughter class."
   ]
  },
  {
   "cell_type": "markdown",
   "id": "588b6743",
   "metadata": {},
   "source": [
    "The sentence tokenizer, that can be used alone."
   ]
  },
  {
   "cell_type": "code",
   "execution_count": 17,
   "id": "e1dc5424",
   "metadata": {},
   "outputs": [],
   "source": [
    "from cltk.sentence.sentence import RegexSentenceTokenizer\n",
    "\n",
    "sent_end_chars = [\".\", \"!\", \"?\"]\n",
    "\n",
    "\n",
    "class OldNorseRegexSentenceTokenizer(RegexSentenceTokenizer):\n",
    "    \"\"\"``RegexSentenceTokenizer`` for Old Norse.\"\"\"\n",
    "\n",
    "    def __init__(self: object):\n",
    "        super().__init__(language=\"non\", sent_end_chars=sent_end_chars)\n"
   ]
  },
  {
   "cell_type": "markdown",
   "id": "5bad1b9e",
   "metadata": {},
   "source": [
    "The global sentence tokenization process and the Old Norse one."
   ]
  },
  {
   "cell_type": "code",
   "execution_count": 18,
   "id": "0c9e977d",
   "metadata": {},
   "outputs": [],
   "source": [
    "from copy import deepcopy\n",
    "from dataclasses import dataclass\n",
    "\n",
    "from boltons.cacheutils import cachedproperty\n",
    "\n",
    "from cltk.core import CLTKException\n",
    "from cltk.core.data_types import Doc, Process\n",
    "from cltk.sentence.sentence import SentenceTokenizer\n",
    "\n",
    "@dataclass\n",
    "class SentenceTokenizationProcess(Process):\n",
    "\n",
    "    model: object = None\n",
    "\n",
    "    @cachedproperty\n",
    "    def algorithm(self):\n",
    "        raise CLTKException(f\"No sentence tokenization algorithm for language '{self.language}'.\")\n",
    "\n",
    "    def run(self, input_doc: Doc) -> Doc:\n",
    "        output_doc = deepcopy(input_doc)\n",
    "        sentence_tokenizer = self.algorithm\n",
    "        if not isinstance(sentence_tokenizer, SentenceTokenizer):\n",
    "            raise CLTKException(\"Algorithm must be an instance of SentenceTokenizer subclass\")\n",
    "\n",
    "        sentences = sentence_tokenizer.tokenize(output_doc.raw, self.model)\n",
    "        sentence_indices = []\n",
    "        for i, sentence in enumerate(sentences):\n",
    "            if i >= 1:\n",
    "                sentence_indices.append(sentence_indices[-1] + len(sentences[i]))\n",
    "            else:\n",
    "                sentence_indices.append(len(sentence))\n",
    "        sentence_index = 0\n",
    "        for j, word in enumerate(output_doc.words):\n",
    "            if sentence_indices[sentence_index] < word.index_char_stop and\\\n",
    "                    sentence_index + 1 < len(sentence_indices):\n",
    "                sentence_index += 1\n",
    "            word.index_sentence = sentence_index\n",
    "        return output_doc\n",
    "\n",
    "\n",
    "@dataclass\n",
    "class OldNorseSentenceTokenizationProcess(SentenceTokenizationProcess):\n",
    "\n",
    "    @cachedproperty\n",
    "    def algorithm(self):\n",
    "        return OldNorseRegexSentenceTokenizer()\n"
   ]
  },
  {
   "cell_type": "markdown",
   "id": "6335b1e1",
   "metadata": {},
   "source": [
    "We can now use it in our custom pipeline at the second position."
   ]
  },
  {
   "cell_type": "code",
   "execution_count": 19,
   "id": "1e83075f",
   "metadata": {},
   "outputs": [],
   "source": [
    "non_pipeline_2 = Pipeline(language=\"non\", description=\"\", \n",
    "                          processes=[OldNorseTokenizationProcess, \n",
    "                                     OldNorseSentenceTokenizationProcess,\n",
    "                                     OldNorsePunctuationRemovalProcess,\n",
    "                                     StopsProcess])"
   ]
  },
  {
   "cell_type": "code",
   "execution_count": 20,
   "id": "40790ec1",
   "metadata": {},
   "outputs": [
    {
     "name": "stdout",
     "output_type": "stream",
     "text": [
      "‎𐤀 CLTK version '1.0.21'.\n",
      "Pipeline for language 'Old Norse' (ISO: 'non'): `OldNorseTokenizationProcess`, `OldNorseSentenceTokenizationProcess`, `OldNorsePunctuationRemovalProcess`, `StopsProcess`.\n"
     ]
    }
   ],
   "source": [
    "non_nlp_2 = NLP(\"non\", custom_pipeline=non_pipeline_2)"
   ]
  },
  {
   "cell_type": "markdown",
   "id": "2ac587e6",
   "metadata": {},
   "source": [
    "Let's analyse our texts."
   ]
  },
  {
   "cell_type": "code",
   "execution_count": 21,
   "id": "38c4b41b",
   "metadata": {},
   "outputs": [],
   "source": [
    "ESR_analysed_2 = non_nlp_2.analyze(ESR.lower())"
   ]
  },
  {
   "cell_type": "code",
   "execution_count": 22,
   "id": "edb56ba4",
   "metadata": {},
   "outputs": [],
   "source": [
    "GS_analysed_2 = non_nlp_2.analyze(GS.lower())"
   ]
  },
  {
   "cell_type": "code",
   "execution_count": 23,
   "id": "26aaeaf3",
   "metadata": {},
   "outputs": [
    {
     "data": {
      "text/plain": [
       "(587, 413)"
      ]
     },
     "execution_count": 23,
     "metadata": {},
     "output_type": "execute_result"
    }
   ],
   "source": [
    "len(ESR_analysed_2.sentences), len(GS_analysed_2.sentences)"
   ]
  },
  {
   "cell_type": "markdown",
   "id": "cc959522",
   "metadata": {},
   "source": [
    "Out texts have the sentences we needed."
   ]
  },
  {
   "cell_type": "markdown",
   "id": "060e5174",
   "metadata": {},
   "source": [
    "## Characterisation of the topic"
   ]
  },
  {
   "cell_type": "markdown",
   "id": "ce186945",
   "metadata": {},
   "source": [
    "The idea is to find differences in the user vocabulary. A non-factual vocabulary may show assumptions made by the authors. \n",
    "\n",
    "Some words are meaningful to see what it talks about whereas others are just here for syntactic reasons. The least-informative words are named *stop words*. There is a Stop Removal Process for Old Norse. It is however not complete enough. That is why I completed the list of stop words."
   ]
  },
  {
   "cell_type": "code",
   "execution_count": 24,
   "id": "404b781d",
   "metadata": {},
   "outputs": [],
   "source": [
    "custom_stop_list = [\"hann\", \"þar\", \"hon\", \"af\", \"ek\", \"svá\", \"eigi\", \"nú\", \"hafði\", \"honum\", \n",
    "                    \"hafa\", \"henni\", \"þér\", \"höfðu\", \"mun\", \"hans\", \"sér\", \"eftir\", \"vera\", \"ekki\", \"mér\", \n",
    "                    \"þú\", \"aftr\", \"hana\", \"sitt\", \"haf\", \"vér\", \"sínum\", \"hennar\", \"sínu\", \"þaðan\", \n",
    "                    \"allt\", \"sinn\", \"hvat\", \"sama\", \"eitt\", \"einn\", \"ein\", \"öllum\", \"öðrum\", \"\"]\n",
    "\n"
   ]
  },
  {
   "cell_type": "code",
   "execution_count": 25,
   "id": "2d6815c8",
   "metadata": {},
   "outputs": [],
   "source": [
    "common_verbs = [\"var\", \"hét\", \"váru\", \"fór\", \"kom\", \"tók\", \"fara\", \"mælti\", \"sjá\", \"kvað\", \"þótti\", \"fóru\", \n",
    "                \"átti\", \"sagði\", \"bjó\", \"kómu\", \"kveðst\", \"verða\", \"segir\", \"leita\", \"sigla\", \n",
    "                \"vil\", \"segja\", \"svarar\", \"gekk\", \"koma\", \"hefir\", \"tóku\", \"væri\", \"vildi\", \"gerðist\", \n",
    "                \"gera\", \"gaf\", \"kölluðu\", \"kalla\", \"myndi\", \"mundu\", \"vildu\", \"gengu\", \"eru\", \"skal\", \"ætla\",\n",
    "                \"fekk\", \"lét\", \"svaraði\", \"þóttust\", \"farit\", \"sé\", \"vill\", \"sigldu\", \"vita\", \"taka\", \"mundi\", \n",
    "                \"varð\", \"fundu\", \"gerðu\", \"gerði\", \"láta\", \"halda\", \"bjuggu\", \"fann\", \"halda\"]"
   ]
  },
  {
   "cell_type": "markdown",
   "id": "79e05ea8",
   "metadata": {},
   "source": [
    "###  Loading POS annotations"
   ]
  },
  {
   "cell_type": "code",
   "execution_count": 26,
   "id": "018c64c3",
   "metadata": {},
   "outputs": [],
   "source": [
    "pos_tags = dict(NC=\"common noun\",\n",
    "     NP=\"proper noun\",\n",
    "     AJ=\"adjective\",\n",
    "     PE=\"personal pronoun\",\n",
    "     PI=\"indefinite pronoun\",\n",
    "     DP=\"possessive determiner\",\n",
    "     DD=\"demonstrative determiner\",\n",
    "     DQ=\"quantifier determiner\",\n",
    "     PD=\"pronoun/determiner\",\n",
    "     NA=\"cardinal determiner\",\n",
    "     NO=\"ordinal determiner\",\n",
    "     VB=\"verb\",\n",
    "     AV=\"adverb\",\n",
    "     AT=\"article\",\n",
    "     AP=\"preposition\",\n",
    "     CC=\"coordinating conjunction\",\n",
    "     CS=\"subordinating conjunction\",\n",
    "     IT=\"interjection\",\n",
    "     IM=\"infinitive marker\",\n",
    "     RP=\"relative particle\",\n",
    "     UA=\"unassigned\"\n",
    "    )\n",
    "\n",
    "informative_pos_tags = [\"NC\", \"NP\", \"AJ\", \"VB\"]"
   ]
  },
  {
   "cell_type": "code",
   "execution_count": 27,
   "id": "19fe612e",
   "metadata": {},
   "outputs": [],
   "source": [
    "with codecs.open(\"annotated_pos_ESR.csv\", \"r\") as f:\n",
    "    pos_lines_ESR = [line.split(\"\\t\") for line in f.read().split(\"\\n\")]\n",
    "    "
   ]
  },
  {
   "cell_type": "code",
   "execution_count": 28,
   "id": "4af174b7",
   "metadata": {},
   "outputs": [],
   "source": [
    "with codecs.open(\"annotated_pos_GS.csv\", \"r\") as f:\n",
    "    pos_lines_GS = [line.split(\"\\t\") for line in f.read().split(\"\\n\")]\n"
   ]
  },
  {
   "cell_type": "code",
   "execution_count": 29,
   "id": "a566fb48",
   "metadata": {},
   "outputs": [],
   "source": [
    "PUNCTUATION = [\".\", \",\", \";\", \"!\", \"?\", \":\", \"\\\"\", \"'\", \"(\", \")\", \"[\", \"]\", \"{\", \"}\", \"--\", \".]\", \"-\"]"
   ]
  },
  {
   "cell_type": "code",
   "execution_count": 30,
   "id": "0865869c",
   "metadata": {},
   "outputs": [
    {
     "data": {
      "text/plain": [
       "['1', 'frá', 'auði', 'djúpúðgu', 'ok']"
      ]
     },
     "execution_count": 30,
     "metadata": {},
     "output_type": "execute_result"
    }
   ],
   "source": [
    "ESR_analysed_2.tokens[:5]"
   ]
  },
  {
   "cell_type": "markdown",
   "id": "c03431af",
   "metadata": {},
   "source": [
    "### Aligning tags with text"
   ]
  },
  {
   "cell_type": "code",
   "execution_count": 31,
   "id": "9ad4f9c5",
   "metadata": {},
   "outputs": [],
   "source": [
    "def align_annotations(cltk_doc, spacy_annotations):\n",
    "    \"\"\"\n",
    "    Assign POS tags to words of a CLTK doc from spaCy annotations\n",
    "    \"\"\"\n",
    "    cltk_words = cltk_doc.words\n",
    "    i, j = 0, 0\n",
    "    m = len(cltk_words)\n",
    "    n = len(spacy_annotations)\n",
    "    while i < m and j < n:\n",
    "        spacy_token = spacy_annotations[j][0]\n",
    "        if not spacy_token or spacy_token in PUNCTUATION:\n",
    "            j += 1\n",
    "        elif cltk_words[i].string in PUNCTUATION:\n",
    "            i += 1\n",
    "        else:\n",
    "            #print(spacy_token.lower(), cltk_words[i].string)\n",
    "            if spacy_token.lower() == cltk_words[i].string:\n",
    "                \n",
    "                cltk_words[i].xpos = spacy_annotations[j][1]\n",
    "            else:\n",
    "                cltk_words[i].xpos = \"UA\"\n",
    "            i += 1\n",
    "            j += 1\n",
    "    \n",
    "    cltk_doc.words = cltk_words\n",
    "    return cltk_doc\n",
    "            \n"
   ]
  },
  {
   "cell_type": "code",
   "execution_count": 32,
   "id": "7e657baf",
   "metadata": {},
   "outputs": [],
   "source": [
    "ESR_analysed_2 = align_annotations(ESR_analysed_2, pos_lines_ESR)"
   ]
  },
  {
   "cell_type": "code",
   "execution_count": 33,
   "id": "93093c96",
   "metadata": {},
   "outputs": [
    {
     "data": {
      "text/plain": [
       "'PE'"
      ]
     },
     "execution_count": 33,
     "metadata": {},
     "output_type": "execute_result"
    }
   ],
   "source": [
    "ESR_analysed_2.words[78].xpos"
   ]
  },
  {
   "cell_type": "markdown",
   "id": "20a1baa8",
   "metadata": {},
   "source": [
    "### Filtering words"
   ]
  },
  {
   "cell_type": "code",
   "execution_count": 34,
   "id": "787f2cb9",
   "metadata": {},
   "outputs": [],
   "source": [
    "from collections import Counter"
   ]
  },
  {
   "cell_type": "code",
   "execution_count": 35,
   "id": "f21e743b",
   "metadata": {},
   "outputs": [],
   "source": [
    "def kiw(cltk_word, pos_tags=None):\n",
    "    \n",
    "    if pos_tags is None:\n",
    "        pos_tags = informative_pos_tags\n",
    "    return not cltk_word.stop and cltk_word.string and\\\n",
    "        cltk_word.string not in custom_stop_list and\\\n",
    "        cltk_word.string not in common_verbs and\\\n",
    "        cltk_word.xpos in pos_tags"
   ]
  },
  {
   "cell_type": "code",
   "execution_count": 36,
   "id": "e707371d",
   "metadata": {},
   "outputs": [
    {
     "data": {
      "text/plain": [
       "[('menn', 40),\n",
       " ('eiríkr', 29),\n",
       " ('maðr', 24),\n",
       " ('þorbjörn', 24),\n",
       " ('karlsefni', 23),\n",
       " ('leifr', 22),\n",
       " ('landit', 17),\n",
       " ('vetr', 16),\n",
       " ('verit', 16),\n",
       " ('skip', 14),\n",
       " ('manna', 14),\n",
       " ('land', 13),\n",
       " ('bóndi', 13),\n",
       " ('sonr', 12),\n",
       " ('kona', 12),\n",
       " ('sumar', 11),\n",
       " ('guðríðr', 11),\n",
       " ('ormr', 11),\n",
       " ('bjarni', 11),\n",
       " ('dóttur', 10),\n",
       " ('mönnum', 10),\n",
       " ('grænlands', 10),\n",
       " ('mikill', 10),\n",
       " ('hafi', 10),\n",
       " ('grænlandi', 10),\n",
       " ('auðr', 9),\n",
       " ('skipi', 9),\n",
       " ('einarr', 9),\n",
       " ('þorkell', 9),\n",
       " ('vetrinn', 9),\n",
       " ('skrælingar', 9),\n",
       " ('föður', 8),\n",
       " ('kristni', 7),\n",
       " ('fé', 7),\n",
       " ('landi', 7),\n",
       " ('eiríksson', 7),\n",
       " ('snorri', 7),\n",
       " ('konungr', 6),\n",
       " ('konu', 6),\n",
       " ('eiríki', 6),\n",
       " ('sumarit', 6),\n",
       " ('íslandi', 6),\n",
       " ('dóttir', 6),\n",
       " ('ráð', 6),\n",
       " ('máli', 6),\n",
       " ('lá', 6),\n",
       " ('bátinn', 6),\n",
       " ('óláfr', 5),\n",
       " ('írlandi', 5),\n",
       " ('fell', 5)]"
      ]
     },
     "execution_count": 36,
     "metadata": {},
     "output_type": "execute_result"
    }
   ],
   "source": [
    "a = [(word.string,word.xpos) for word in ESR_analysed_2.words if kiw(word)]\n",
    "c_ESR = Counter([w[0] for w in a])\n",
    "c_ESR.most_common(50)"
   ]
  },
  {
   "cell_type": "code",
   "execution_count": 37,
   "id": "d96ddb06",
   "metadata": {},
   "outputs": [],
   "source": [
    "GS_analysed_2 = align_annotations(GS_analysed_2, pos_lines_GS)"
   ]
  },
  {
   "cell_type": "code",
   "execution_count": 38,
   "id": "10d6ab37",
   "metadata": {},
   "outputs": [
    {
     "data": {
      "text/plain": [
       "[('leifr', 33),\n",
       " ('skip', 30),\n",
       " ('land', 25),\n",
       " ('menn', 21),\n",
       " ('landit', 20),\n",
       " ('maðr', 17),\n",
       " ('eiríkr', 16),\n",
       " ('skipi', 15),\n",
       " ('guðríðr', 15),\n",
       " ('manna', 14),\n",
       " ('þorvaldr', 13),\n",
       " ('vetr', 13),\n",
       " ('grænlandi', 13),\n",
       " ('bjarni', 13),\n",
       " ('landi', 12),\n",
       " ('karlsefni', 12),\n",
       " ('mikil', 11),\n",
       " ('bað', 11),\n",
       " ('sonr', 10),\n",
       " ('kona', 10),\n",
       " ('skips', 10),\n",
       " ('stund', 9),\n",
       " ('bræðr', 9),\n",
       " ('freydís', 9),\n",
       " ('várit', 8),\n",
       " ('eiríksfjarðar', 8),\n",
       " ('grænlands', 8),\n",
       " ('ferð', 8),\n",
       " ('skála', 8),\n",
       " ('landinu', 7),\n",
       " ('brátt', 7),\n",
       " ('liði', 7),\n",
       " ('eiríks', 6),\n",
       " ('sumarit', 6),\n",
       " ('mikill', 6),\n",
       " ('föður', 6),\n",
       " ('skipit', 6),\n",
       " ('burt', 6),\n",
       " ('guðríði', 6),\n",
       " ('vínlands', 6),\n",
       " ('bóndi', 6),\n",
       " ('vínlandi', 6),\n",
       " ('rauði', 5),\n",
       " ('íslands', 5),\n",
       " ('sumar', 5),\n",
       " ('grænland', 5),\n",
       " ('vetrinn', 5),\n",
       " ('brattahlíð', 5),\n",
       " ('fjár', 5),\n",
       " ('bjarna', 5)]"
      ]
     },
     "execution_count": 38,
     "metadata": {},
     "output_type": "execute_result"
    }
   ],
   "source": [
    "b = [(word.string,word.xpos) for word in GS_analysed_2.words if kiw(word)]\n",
    "c_GS = Counter([w[0] for w in b])\n",
    "c_GS.most_common(50)"
   ]
  },
  {
   "cell_type": "markdown",
   "id": "087572be",
   "metadata": {},
   "source": [
    "## Datation of texts"
   ]
  },
  {
   "cell_type": "markdown",
   "id": "dcfa2ed2",
   "metadata": {},
   "source": [
    "One way to estimate the date of writing of a text is by using linguistic features.\n",
    "\n",
    "[https://timarit.is/page/7340957](https://timarit.is/page/7340957)\n",
    "\n",
    "> The of/um particle can be used as a dating criterium only when the material for analysis is extensive."
   ]
  },
  {
   "cell_type": "code",
   "execution_count": 39,
   "id": "2bbbb2d2",
   "metadata": {},
   "outputs": [
    {
     "name": "stdout",
     "output_type": "stream",
     "text": [
      "Displaying 25 of 58 matches:\n",
      " var búinn fylgðu þeir styrr honum út um eyjar eiríkr sagði þeim at hann ætlað\n",
      " sonr úlfs kráku sá er hann rak vestr um haf þá er hann fann gunnbjarnarsker k\n",
      " eiríksey nær miðri inni eystri byggð um várit eftir fór hann til eiríksfjarða\n",
      "íksey fyrir mynni eiríksfjarðar eftir um sumarit fór hann til íslands ok kom s\n",
      " landit héti vel eiríkr var á íslandi um vetrinn en um sumarit eftir fór hann \n",
      "el eiríkr var á íslandi um vetrinn en um sumarit eftir fór hann at byggja land\n",
      " eyrar er faðir hans hafði brot siglt um várit þau tíðendi þóttu bjarna mikil \n",
      " þetta dægr áðr þeir sá land ok ræddu um með sér hvat landi þetta mun vera en \n",
      "irðmaðr jarls ok fór út til grænlands um sumarit eftir var nú mikil umræða um \n",
      " um sumarit eftir var nú mikil umræða um landaleitan leifr sonr eiríks rauða ó\n",
      " mælti leifr eigi er oss nú þat orðit um þetta land sem bjarna at vér hafim ei\n",
      "r af landinu ok gengu þar upp ok sást um í góðu veðri ok fundu þat at dögg var\n",
      "búðir tóku þat ráð síðan at búast þar um þann vetr ok gerðu þar hús mikil hvár\n",
      "hafði þar eyktar stað ok dagmála stað um skammdegi en er þeir höfðu lokit húsg\n",
      "ldi ok skilist eigi nú gerðu þeir svá um stund leifr gerði ýmisst at hann fór \n",
      "str at sjá vitr maðr ok góðr hófsmaðr um alla hluti 4 leifr inn heppni fann me\n",
      "né vínber nú sváfu þeir af þá nótt en um morguninn mælti leifr við háseta sína\n",
      "t ok eiríkr rauði nú var umræða mikil um vínlandsför leifs ok þótti þorvaldi b\n",
      "itt ok heldu í haf ok er engi frásögn um ferð þeira fyrr en þeir koma til vínl\n",
      " vínlands til leifsbúða ok bjuggu þar um skip sitt ok sátu um kyrrt þann vetr \n",
      "ða ok bjuggu þar um skip sitt ok sátu um kyrrt þann vetr ok veiddu fiska til m\n",
      "vetr ok veiddu fiska til matar sér en um várit mælti þorvaldr at þeir skyldu b\n",
      "fara fyrir vestan landit ok kanna þar um sumarit þeim sýndist landit fagrt ok \n",
      "nga síðan aftr á höfðann ok sjást þar um ok sjá inn í fjörðinn hæðir nökkurar \n",
      "vá gera þeir en skrælingar skutu á þá um stund en flýja síðan burt sem ákafast\n"
     ]
    }
   ],
   "source": [
    "from nltk.text import Text\n",
    "t = Text(GS_analysed_2.tokens)\n",
    "t.concordance(\"um\")"
   ]
  },
  {
   "cell_type": "code",
   "execution_count": 41,
   "id": "8dbcdeb8",
   "metadata": {},
   "outputs": [
    {
     "name": "stdout",
     "output_type": "stream",
     "text": [
      "fylgðu/VB þeir/DD styrr/AP honum/PE út/AV um/AP eyjar/NC eiríkr/NC sagði/VB þeim/DD\n",
      "sá/DD er/RP hann/PE rak/VB vestr/AV um/AP haf/NC þá/AV er/RP hann/PE\n",
      "nær/AV miðri/AJ inni/AV eystri/AJ byggð/NC um/VB várit/NC eftir/VP fór/VB hann/PE\n",
      "eiríksey/NC fyrir/AP mynni/NC eiríksfjarðar/NC eftir/AV um/AP sumarit/NC fór/VB hann/PE til/VP\n",
      "vel/AV eiríkr/NC var/VB á/AP íslandi/NC um/AP vetrinn/NC en/CC um/AP sumarit/NC\n",
      "á/AP íslandi/NC um/AP vetrinn/NC en/CC um/AP sumarit/NC eftir/VP fór/VB hann/PE\n",
      "faðir/NC hans/PE hafði/VB brot/AV siglt/VB um/AP várit/NC þau/AJ tíðendi/NC þóttu/VB\n",
      "þeir/DD sá/VB land/NC ok/CC ræddu/NC um/VP með/AP sér/PE hvat/PQ landi/NC\n",
      "ok/CC fór/VB út/AV til/AP grænlands/NP um/AP sumarit/NC eftir/AP var/NC nú/AV\n",
      "eftir/AP var/NC nú/AV mikil/AJ umræða/NC um/AP landaleitan/NC leifr/NC sonr/NC eiríks/NC\n",
      "er/VB oss/PE nú/AV þat/DD orðit/VB um/AP þetta/DD land/NC sem/CS bjarna/VB\n",
      "gengu/VB þar/AV upp/AV ok/CC sást/NC um/AP í/AP góðu/AJ veðri/NC ok/CC\n",
      "ráð/NC síðan/AV at/IM búast/VB þar/AV um/AP þann/DD vetr/NC ok/CC gerðu/VB\n",
      "eyktar/AJ stað/NC ok/CU dagmála/NC stað/NC um/AP skammdegi/PD en/VB er/CS þeir/DD\n",
      "eigi/AV nú/NC gerðu/VB þeir/DD svá/AV um/AP stund/NC leifr/NC gerði/VB ýmisst/VB\n",
      "vitr/AJ maðr/NC ok/CU góðr/AJ hófsmaðr/NC um/AP alla/AJ hluti/NC 4/NA leifr/NC\n",
      "þeir/DD af/AP þá/DD nótt/NC en/CC um/AP morguninn/NC mælti/VB leifr/NC við/AP\n",
      "rauði/AJ nú/NC var/VB umræða/NC mikil/AJ um/AP vínlandsför/NC leifs/AP ok/CC þótti/VB\n",
      "haf/NC ok/CC er/VB engi/PI frásögn/VB um/AP ferð/NC þeira/DD fyrr/AV en/CS\n",
      "til/AP leifsbúða/NC ok/CC bjuggu/NC þar/AV um/AP skip/NC sitt/DP ok/CC sátu/VB\n",
      "um/AP skip/NC sitt/DP ok/CC sátu/VB um/AP kyrrt/AJ þann/DD vetr/NC ok/CC\n",
      "fiska/NC til/AP matar/NC sér/PE en/VB um/AP várit/NC mælti/VB þorvaldr/AJ at/CU\n",
      "vestan/AV landit/NC ok/CC kanna/VB þar/AV um/AP sumarit/NC þeim/AV sýndist/NC landit/NC\n",
      "á/AP höfðann/NC ok/CC sjást/VB þar/AV um/AP ok/AV sjá/VB inn/AV í/AP\n",
      "en/CC skrælingar/VB skutu/NC á/AP þá/DD um/AP stund/NC en/CC flýja/VB síðan/AV\n",
      "ek/PE muni/VB þar/AV búa/VB á/VP um/AP stund/NC þar/NC skuluð/VB þér/PE\n",
      "skipsins/NC nú/NC búast/VB þeir/DD þaðan/AV um/AP várit/NC eftir/VP til/AP grænlands/NC\n",
      "vestri/VB byggð/NC þorsteinn/NC leitaði/VB þeim/DD um/AP vistir/NC ok/CC fekk/VB vistir/NC\n",
      "nú/NC kom/VB hann/PE eftir/AP þeim/DD um/AP morgininn/NC með/AP eyki/NC ok/CC\n",
      "til/AP skips/NC ok/CC búa/VB þar/AV um/AP því/DD at/CS ek/PE vil/VB\n",
      "með/VB undarligum/NC hætti/NC er/VB nú/AV um/AP húsfreyju/NC vára/DP því/DD at/CS\n",
      "færði/NC í/AP brott/AV ok/CC bjó/VB um/AP hann/NC var/VB bæði/AV mikill/AJ\n",
      "gegnt/AP líki/NC þorsteins/NC ok/CC talði/VB um/AP fyrir/AP henni/PE marga/AJ vega/NC\n",
      "þorsteinn/PE aftr/AV ok/CC var/VB búit/VB um/AP lík/NC hans/PE ok/CC fært/VB\n",
      "hann/PE hafði/VB heitit/VB hann/NC seldi/VB um/AP várit/NC jörð/NC sína/DP ok/CC\n",
      "stórauðigr/AJ at/AP fé/NC ok/CC var/VB um/AP vetrinn/NC í/AP brattahlíð/NC með/AP\n",
      "varð/VB úrigt/NC ok/CC gerði/VB mikit/AJ um/AP sik/PE þeir/NC höfðu/- haft/VB\n",
      "karlsefni/AP lætr/NC gera/VB skíðgarð/NC rammligan/NC um/AP bæ/NC sinn/VB ok/CC bjuggust/VB\n",
      "bæ/NC sinn/VB ok/CC bjuggust/VB þar/AV um/AP í/NC þann/DD tíma/NC fæddi/NC\n",
      "heldr/AV lág/VB ok/CC hafði/VB dregil/VB um/AP höfuð/NC ok/CC ljósjörp/VB á/AP\n",
      "öxi/NC eina/NA ok/CC leit/VB á/VP um/AP stund/NC ok/CC reiddi/VB at/AP\n",
      "við/AP öxinni/NC ok/CC leit/VB á/VP um/AP stund/NC ok/CC varp/VB henni/PE\n",
      "sínu/DP heilu/AJ ok/CC váru/VB þar/AV um/AP vetrinn/NC 8/NA ódæðisverk/NC freydísar/NC\n",
      "nú/NC tekst/NC umræða/NC at/IM nýju/AJ um/AP vínlandsferð/AJ því/DD at/CS sú/DD\n",
      "manna/NC á/AP skipi/NC ok/CC konur/NC um/AP fram/AV en/VB freydís/NC brá/VB\n",
      "á/AP vatnsströndu/NC ok/CC bjuggu/NC vel/AV um/AP en/VB freydís/NC lét/VB fella/VB\n",
      "höfð/NC skemmtan/NC svá/NC var/VB gert/VB um/AP stund/NC þar/AV til/AP er/CS\n",
      "at/CU freydís/NC þóttist/UA allvel/AV hafa/VB um/AP ráðit/NC ok/CC mælti/VB við/AP\n",
      "nú/NC bjuggu/NC þeir/DD skipit/NC snemma/AV um/AP várit/NC þat/DD er/RP þeir/DD\n",
      "illsku/NC at/CS eigi/AV kæmi/VB upp/AV um/AP síðir/NC nú/NC kom/VB þetta/DD\n",
      "síðir/NC nú/NC kom/VB þetta/DD upp/AV um/AP síðir/NC fyrir/AP leif/NC bróður/NC\n",
      "ok/CC píndi/VB þá/AV til/AP sagna/NC um/AP þenna/DD atburð/NC allan/AJ jafnsaman/NC\n",
      "svá/AV fram/AV at/CS engum/PI þótti/VB um/AP þau/DD vert/AJ þaðan/AV í/AP\n",
      "ok/CC höldnu/NC ok/CC sat/VB þar/AV um/AP vetrinn/NC ok/CC seldi/VB varning/NC\n",
      "göfgustum/AJ mönnum/NC í/AP nóregi/NP en/CC um/AP várit/NC eftir/VP bjó/VB hann/PE\n",
      "þar/AV upp/AV sett/VB skip/NC hans/PE um/AP vetrinn/NC en/VB um/AP várit/NC\n",
      "skip/NC hans/PE um/AP vetrinn/NC en/VB um/AP várit/NC keypti/VB hann/PE glaumbæjarland/AV\n",
      "gerst/VB sagt/VB allra/DQ manna/NC atburði/NC um/AP farar/NC þessar/DD allar/AJ er/RP\n"
     ]
    }
   ],
   "source": [
    "context = []\n",
    "for k, word in enumerate(GS_analysed_2.words):\n",
    "    \n",
    "    if word.string == \"um\":\n",
    "        if 0 < k - 5 and k + 5 < len(GS_analysed_2.words):\n",
    "            print(\" \".join([f\"{w.string}/{w.xpos}\" for w in GS_analysed_2.words[k-5:k+5]]))\n",
    "                \n",
    "        # print(d[0].string, d[1].string, d[2].string, d[3].string, d[4].string, word.xpos)"
   ]
  },
  {
   "cell_type": "code",
   "execution_count": null,
   "id": "3a77d212",
   "metadata": {},
   "outputs": [],
   "source": [
    "    "
   ]
  },
  {
   "cell_type": "code",
   "execution_count": null,
   "id": "1a5c8852",
   "metadata": {},
   "outputs": [],
   "source": []
  },
  {
   "cell_type": "code",
   "execution_count": null,
   "id": "64376f5b",
   "metadata": {},
   "outputs": [],
   "source": []
  },
  {
   "cell_type": "code",
   "execution_count": null,
   "id": "472f8ffb",
   "metadata": {},
   "outputs": [],
   "source": []
  },
  {
   "cell_type": "code",
   "execution_count": null,
   "id": "b77a4c99",
   "metadata": {},
   "outputs": [],
   "source": []
  },
  {
   "cell_type": "code",
   "execution_count": null,
   "id": "c1390281",
   "metadata": {},
   "outputs": [],
   "source": []
  },
  {
   "cell_type": "code",
   "execution_count": null,
   "id": "a6e35a07",
   "metadata": {},
   "outputs": [],
   "source": []
  },
  {
   "cell_type": "code",
   "execution_count": null,
   "id": "8d33bf14",
   "metadata": {},
   "outputs": [],
   "source": []
  }
 ],
 "metadata": {
  "kernelspec": {
   "display_name": "Python 3 (ipykernel)",
   "language": "python",
   "name": "python3"
  },
  "language_info": {
   "codemirror_mode": {
    "name": "ipython",
    "version": 3
   },
   "file_extension": ".py",
   "mimetype": "text/x-python",
   "name": "python",
   "nbconvert_exporter": "python",
   "pygments_lexer": "ipython3",
   "version": "3.8.5"
  }
 },
 "nbformat": 4,
 "nbformat_minor": 5
}
